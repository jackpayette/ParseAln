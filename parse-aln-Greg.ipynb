{
 "cells": [
  {
   "cell_type": "code",
   "execution_count": 1,
   "metadata": {},
   "outputs": [],
   "source": [
    "#########################################################################\n",
    "# Script to parse alignment and remove range of columns via excel file  #\n",
    "# Jack G. Payette, MIT Fournier Lab, EAPS.                              #\n",
    "# MIT Software License                                                  #\n",
    "# E-mail: payette@mit.edu                                               #\n",
    "#########################################################################\n",
    "from Bio import AlignIO\n",
    "from Bio import SeqIO\n",
    "import pandas as pd\n",
    "import itertools\n",
    "import re\n",
    "import os"
   ]
  },
  {
   "cell_type": "code",
   "execution_count": 2,
   "metadata": {},
   "outputs": [],
   "source": [
    "# Read fasta alignment file into python ~ these variables could be converted to arg_parse for standalone script\n",
    "alignment_name='150fastas.fasta'\n",
    "alignment_format='fasta'\n",
    "alignment = AlignIO.read(alignment_name,alignment_format)"
   ]
  },
  {
   "cell_type": "code",
   "execution_count": 3,
   "metadata": {},
   "outputs": [
    {
     "name": "stdout",
     "output_type": "stream",
     "text": [
      "SingleLetterAlphabet() alignment with 150 rows and 57151 columns\n",
      "-MQTDL--SNSSLFNHKSVMTDEILVSI-DHFPL---IQDNQLR...--- AG-311-I09\n",
      "--------------------------------------------...END AG-315-C08\n",
      "--------------------------------------------...--- AG-315-C22\n",
      "--------------------------------------------...GND AG-315-J23\n",
      "--------------------------------------------...GND AG-315-K21\n",
      "-MQTDL--SDSSLFNHKSVMTDEILFSV-DKYPL---ISNNKLT...--- AG-321-G20\n",
      "-MKEGPI-SSCSNFNHVPIMGKEIIQSL-KELPS---ELTKQGL...--- AG-341-I22\n",
      "-MQTDL--SDSSFFNHKSVMTDEIIASL-EHFPS---INNKQLK...AS- AG-347-I15\n",
      "-MQTDL--SDSSLFNHKSVMTDEILVSV-DQYPL---ISGKKLT...AS- AG-347-J22\n",
      "-MQTDL--SDSSFFNHKSVMTDEIMASL-RHYPL---IDNNQLK...AS- AG-347-K18\n",
      "--------------------------------------------...--- AG-347-N23\n",
      "-MEDQPS-LSSSDVLHQPVLVEQVLNQF-FTLPS---DLLDGGI...GND AG-363-A06\n",
      "-MPNPSS-VNASNFHHLPVLANDVMQSI-NNLPT---KLLDGGL...SDD AG-363-A16\n",
      "-MPEQFP-ADASGFHHVPVLSNELLNFT-EALPS---DLLDGGL...--- AG-363-B04\n",
      "-MKEESK-IVTSKFKHTPVLSREVIQAI-SQLPA---TLLKKGT...--- AG-363-B11\n",
      "--------------------------------------------...GDD AG-363-C02\n",
      "-MQDRSP-KQTVNFQHLPVLSAEVLASI-QTLPK---KLLNGGL...GND AG-363-C20\n",
      "--------------------------------------------...GDD AG-363-G23\n",
      "...\n",
      "--------------------------------------------...SDG syn-spong-m9\n"
     ]
    }
   ],
   "source": [
    "# Print AlignIO object\n",
    "print(alignment)"
   ]
  },
  {
   "cell_type": "code",
   "execution_count": 4,
   "metadata": {},
   "outputs": [
    {
     "name": "stdout",
     "output_type": "stream",
     "text": [
      "AG-311-I09 57151\n",
      "AG-315-C08 57151\n",
      "AG-315-C22 57151\n",
      "AG-315-J23 57151\n",
      "AG-315-K21 57151\n",
      "AG-321-G20 57151\n",
      "AG-341-I22 57151\n",
      "AG-347-I15 57151\n",
      "AG-347-J22 57151\n",
      "AG-347-K18 57151\n",
      "AG-347-N23 57151\n",
      "AG-363-A06 57151\n",
      "AG-363-A16 57151\n",
      "AG-363-B04 57151\n",
      "AG-363-B11 57151\n",
      "AG-363-C02 57151\n",
      "AG-363-C20 57151\n",
      "AG-363-G23 57151\n",
      "AG-363-I04 57151\n",
      "AG-363-J23 57151\n",
      "AG-363-K07 57151\n",
      "AG-363-L02 57151\n",
      "AG-363-L17 57151\n",
      "AG-363-L19 57151\n",
      "AG-363-M17 57151\n",
      "AG-363-M20 57151\n",
      "AG-363-M21 57151\n",
      "AG-363-N03 57151\n",
      "AG-363-N16 57151\n",
      "AG-363-N20 57151\n",
      "AG-363-O06 57151\n",
      "AG-363-O15 57151\n",
      "AG-363-O16 57151\n",
      "AG-363-O21 57151\n",
      "AG-363-P01 57151\n",
      "AG-363-P08 57151\n",
      "AG-363-P15 57151\n",
      "AG-363-P19 57151\n",
      "AG-388-D03 57151\n",
      "AG-402-B03 57151\n",
      "AG-402-B19 57151\n",
      "AG-402-G22 57151\n",
      "AG-402-I21 57151\n",
      "AG-402-K05 57151\n",
      "AG-402-K14 57151\n",
      "AG-402-K21 57151\n",
      "AG-402-L18 57151\n",
      "AG-402-M23 57151\n",
      "AG-402-N10 57151\n",
      "AG-402-N21 57151\n",
      "AG-402-P16 57151\n",
      "AG-402-P18 57151\n",
      "AG-409-A19 57151\n",
      "AG-409-A23 57151\n",
      "AG-409-B05 57151\n",
      "AG-409-B13 57151\n",
      "AG-409-B20 57151\n",
      "AG-409-C21 57151\n",
      "AG-409-D09 57151\n",
      "AG-409-D20 57151\n",
      "AG-409-E05 57151\n",
      "AG-409-F19 57151\n",
      "AG-409-G20 57151\n",
      "AG-409-I11 57151\n",
      "AG-409-J03 57151\n",
      "AG-409-J11 57151\n",
      "AG-409-J16 57151\n",
      "AG-409-J19 57151\n",
      "AG-409-J23 57151\n",
      "AG-409-K04 57151\n",
      "AG-409-L14 57151\n",
      "AG-409-L18 57151\n",
      "AG-409-L21 57151\n",
      "AG-409-M05 57151\n",
      "AG-409-N21 57151\n",
      "AG-409-O23 57151\n",
      "AG-409-P01 57151\n",
      "AG-409-P03 57151\n",
      "AG-409-P19 57151\n",
      "AG-418-C09 57151\n",
      "AG-418-K17 57151\n",
      "AG-418-M08 57151\n",
      "AG-432-D11 57151\n",
      "AG-432-G10 57151\n",
      "AG-432-O20 57151\n",
      "AG-436-C13 57151\n",
      "AG-436-J02 57151\n",
      "AG-436-M02 57151\n",
      "AG-436-N08 57151\n",
      "AG-436-O17 57151\n",
      "AG-436-O20 57151\n",
      "AG-442-M23 57151\n",
      "AG-442-N17 57151\n",
      "AG-449-P16 57151\n",
      "AG-459-M13 57151\n",
      "AG-463-F15 57151\n",
      "AG-463-I04 57151\n",
      "AG-463-J16 57151\n",
      "AG-463-L06 57151\n",
      "AG-463-N15 57151\n",
      "AG-463-P14 57151\n",
      "AG-670-O19 57151\n",
      "AG-673-M19 57151\n",
      "GP2 57151\n",
      "HNLC1 57151\n",
      "JGI_02_M7 57151\n",
      "LG 57151\n",
      "MIT0601 57151\n",
      "MIT0602 57151\n",
      "MIT0918 57151\n",
      "MIT1205 57151\n",
      "MIT1223 57151\n",
      "MIT1300 57151\n",
      "MIT1304 57151\n",
      "MIT1307 57151\n",
      "MIT1314 57151\n",
      "MIT9211 57151\n",
      "MIT9401 57151\n",
      "MIT9515 57151\n",
      "REDSEA-S28_B1 57151\n",
      "W08 57151\n",
      "syn-elong-PCC6301 57151\n",
      "syn-marine-AG-670-D07 57151\n",
      "syn-marine-AG-670-F04 57151\n",
      "syn-marine-AG-673-B08 57151\n",
      "syn-marine-AG-683-B21 57151\n",
      "syn-marine-ARS1019 57151\n",
      "syn-marine-CB0101 57151\n",
      "syn-marine-CB0205 57151\n",
      "syn-marine-CPC35 57151\n",
      "syn-marine-EAC657 57151\n",
      "syn-marine-GFB01 57151\n",
      "syn-marine-KORDI-49 57151\n",
      "syn-marine-MED650 57151\n",
      "syn-marine-MED850 57151\n",
      "syn-marine-MIT9504 57151\n",
      "syn-marine-NP17 57151\n",
      "syn-marine-RCC307 57151\n",
      "syn-marine-REDSEA-S01_B1 57151\n",
      "syn-marine-RS9916 57151\n",
      "syn-marine-RS9917 57151\n",
      "syn-marine-TMED155 57151\n",
      "syn-marine-TMED187 57151\n",
      "syn-marine-WH5701 57151\n",
      "syn-marine-WH7803 57151\n",
      "syn-marine-WH8020 57151\n",
      "syn-marine-WH8102 57151\n",
      "syn-spong-LMB 57151\n",
      "syn-spong-SH4 57151\n",
      "syn-spong-m9 57151\n"
     ]
    }
   ],
   "source": [
    "# Print ID of each row ~ taxa name\n",
    "# Print length of columns ~ sites in alignment\n",
    "for record in alignment:\n",
    "    print(\"%s %i\" % (record.id, len(record)))"
   ]
  },
  {
   "cell_type": "code",
   "execution_count": 5,
   "metadata": {},
   "outputs": [],
   "source": [
    "# Get alignment length using AlignIO method and store as variable\n",
    "alignment_length = alignment.get_alignment_length()"
   ]
  },
  {
   "cell_type": "code",
   "execution_count": 6,
   "metadata": {},
   "outputs": [
    {
     "name": "stdout",
     "output_type": "stream",
     "text": [
      "57151\n"
     ]
    }
   ],
   "source": [
    "print(alignment_length)"
   ]
  },
  {
   "cell_type": "code",
   "execution_count": 7,
   "metadata": {},
   "outputs": [
    {
     "name": "stdout",
     "output_type": "stream",
     "text": [
      "57150\n"
     ]
    }
   ],
   "source": [
    "# Calculate and print the last possible slice in the alignment, given python ZERO indexing\n",
    "print(alignment_length-1)"
   ]
  },
  {
   "cell_type": "code",
   "execution_count": 8,
   "metadata": {},
   "outputs": [
    {
     "name": "stdout",
     "output_type": "stream",
     "text": [
      "-D-DD------DD--DDDDDDD----D-DDDDD--D---DD-D-D--D-DD-DDDDD-EDDDDDD-DDDDDDDD--DDD------EDD--D-----DD-D------DDDDDDDDD-D-------D--DDDDGDDDDDGDDDGDDDDDGGG\n"
     ]
    }
   ],
   "source": [
    "#print the last column position of all taxa/rows\n",
    "print(alignment[::,alignment_length-1])"
   ]
  },
  {
   "cell_type": "code",
   "execution_count": 9,
   "metadata": {},
   "outputs": [],
   "source": [
    "### Import excel file from Greg for gappy Areas to remove\n",
    "# '-' is the delimiter for the column range to DELETE (Inclusive) from the Alignment\n",
    "# Keep everything EXCEPT columns in these RANGES\n",
    "#~ these variables could be converted to arg_parse for standalone script\n",
    "excel_file_name = 'gappyAreas.xlsx'"
   ]
  },
  {
   "cell_type": "code",
   "execution_count": 10,
   "metadata": {},
   "outputs": [],
   "source": [
    "# Rename column from: 'regions <75% present (deleted)'' to 'Range'\n",
    "cols_to_remove = pd.read_excel(excel_file_name,names=['Range'])"
   ]
  },
  {
   "cell_type": "code",
   "execution_count": 11,
   "metadata": {},
   "outputs": [
    {
     "data": {
      "text/html": [
       "<div>\n",
       "<style scoped>\n",
       "    .dataframe tbody tr th:only-of-type {\n",
       "        vertical-align: middle;\n",
       "    }\n",
       "\n",
       "    .dataframe tbody tr th {\n",
       "        vertical-align: top;\n",
       "    }\n",
       "\n",
       "    .dataframe thead th {\n",
       "        text-align: right;\n",
       "    }\n",
       "</style>\n",
       "<table border=\"1\" class=\"dataframe\">\n",
       "  <thead>\n",
       "    <tr style=\"text-align: right;\">\n",
       "      <th></th>\n",
       "      <th>Range</th>\n",
       "    </tr>\n",
       "  </thead>\n",
       "  <tbody>\n",
       "    <tr>\n",
       "      <th>0</th>\n",
       "      <td>56609-56939</td>\n",
       "    </tr>\n",
       "    <tr>\n",
       "      <th>1</th>\n",
       "      <td>51160-54379</td>\n",
       "    </tr>\n",
       "    <tr>\n",
       "      <th>2</th>\n",
       "      <td>47959-50570</td>\n",
       "    </tr>\n",
       "    <tr>\n",
       "      <th>3</th>\n",
       "      <td>45350-47816</td>\n",
       "    </tr>\n",
       "    <tr>\n",
       "      <th>4</th>\n",
       "      <td>42402-44768</td>\n",
       "    </tr>\n",
       "    <tr>\n",
       "      <th>5</th>\n",
       "      <td>40270-42094</td>\n",
       "    </tr>\n",
       "    <tr>\n",
       "      <th>6</th>\n",
       "      <td>39171-39525</td>\n",
       "    </tr>\n",
       "    <tr>\n",
       "      <th>7</th>\n",
       "      <td>38116-39005</td>\n",
       "    </tr>\n",
       "    <tr>\n",
       "      <th>8</th>\n",
       "      <td>35611-37580</td>\n",
       "    </tr>\n",
       "    <tr>\n",
       "      <th>9</th>\n",
       "      <td>34844-34969</td>\n",
       "    </tr>\n",
       "    <tr>\n",
       "      <th>10</th>\n",
       "      <td>27656-34766</td>\n",
       "    </tr>\n",
       "    <tr>\n",
       "      <th>11</th>\n",
       "      <td>22993-26920</td>\n",
       "    </tr>\n",
       "    <tr>\n",
       "      <th>12</th>\n",
       "      <td>15885-22376</td>\n",
       "    </tr>\n",
       "    <tr>\n",
       "      <th>13</th>\n",
       "      <td>14419-14895</td>\n",
       "    </tr>\n",
       "    <tr>\n",
       "      <th>14</th>\n",
       "      <td>13924-14161</td>\n",
       "    </tr>\n",
       "    <tr>\n",
       "      <th>15</th>\n",
       "      <td>13505-13585</td>\n",
       "    </tr>\n",
       "    <tr>\n",
       "      <th>16</th>\n",
       "      <td>12357-13426</td>\n",
       "    </tr>\n",
       "    <tr>\n",
       "      <th>17</th>\n",
       "      <td>4414-11827</td>\n",
       "    </tr>\n",
       "    <tr>\n",
       "      <th>18</th>\n",
       "      <td>3823-4254</td>\n",
       "    </tr>\n",
       "    <tr>\n",
       "      <th>19</th>\n",
       "      <td>2124-3563</td>\n",
       "    </tr>\n",
       "    <tr>\n",
       "      <th>20</th>\n",
       "      <td>1568-2007</td>\n",
       "    </tr>\n",
       "    <tr>\n",
       "      <th>21</th>\n",
       "      <td>702-1436</td>\n",
       "    </tr>\n",
       "    <tr>\n",
       "      <th>22</th>\n",
       "      <td>313-342</td>\n",
       "    </tr>\n",
       "    <tr>\n",
       "      <th>23</th>\n",
       "      <td>1--45</td>\n",
       "    </tr>\n",
       "  </tbody>\n",
       "</table>\n",
       "</div>"
      ],
      "text/plain": [
       "          Range\n",
       "0   56609-56939\n",
       "1   51160-54379\n",
       "2   47959-50570\n",
       "3   45350-47816\n",
       "4   42402-44768\n",
       "5   40270-42094\n",
       "6   39171-39525\n",
       "7   38116-39005\n",
       "8   35611-37580\n",
       "9   34844-34969\n",
       "10  27656-34766\n",
       "11  22993-26920\n",
       "12  15885-22376\n",
       "13  14419-14895\n",
       "14  13924-14161\n",
       "15  13505-13585\n",
       "16  12357-13426\n",
       "17   4414-11827\n",
       "18    3823-4254\n",
       "19    2124-3563\n",
       "20    1568-2007\n",
       "21     702-1436\n",
       "22      313-342\n",
       "23        1--45"
      ]
     },
     "execution_count": 11,
     "metadata": {},
     "output_type": "execute_result"
    }
   ],
   "source": [
    "cols_to_remove"
   ]
  },
  {
   "cell_type": "code",
   "execution_count": 12,
   "metadata": {},
   "outputs": [],
   "source": [
    "cols_to_remove[23:] = '1-45' #correct typo from '1--45' to be '1-45'"
   ]
  },
  {
   "cell_type": "code",
   "execution_count": 13,
   "metadata": {},
   "outputs": [
    {
     "data": {
      "text/html": [
       "<div>\n",
       "<style scoped>\n",
       "    .dataframe tbody tr th:only-of-type {\n",
       "        vertical-align: middle;\n",
       "    }\n",
       "\n",
       "    .dataframe tbody tr th {\n",
       "        vertical-align: top;\n",
       "    }\n",
       "\n",
       "    .dataframe thead th {\n",
       "        text-align: right;\n",
       "    }\n",
       "</style>\n",
       "<table border=\"1\" class=\"dataframe\">\n",
       "  <thead>\n",
       "    <tr style=\"text-align: right;\">\n",
       "      <th></th>\n",
       "      <th>Range</th>\n",
       "    </tr>\n",
       "  </thead>\n",
       "  <tbody>\n",
       "    <tr>\n",
       "      <th>19</th>\n",
       "      <td>2124-3563</td>\n",
       "    </tr>\n",
       "    <tr>\n",
       "      <th>20</th>\n",
       "      <td>1568-2007</td>\n",
       "    </tr>\n",
       "    <tr>\n",
       "      <th>21</th>\n",
       "      <td>702-1436</td>\n",
       "    </tr>\n",
       "    <tr>\n",
       "      <th>22</th>\n",
       "      <td>313-342</td>\n",
       "    </tr>\n",
       "    <tr>\n",
       "      <th>23</th>\n",
       "      <td>1-45</td>\n",
       "    </tr>\n",
       "  </tbody>\n",
       "</table>\n",
       "</div>"
      ],
      "text/plain": [
       "        Range\n",
       "19  2124-3563\n",
       "20  1568-2007\n",
       "21   702-1436\n",
       "22    313-342\n",
       "23       1-45"
      ]
     },
     "execution_count": 13,
     "metadata": {},
     "output_type": "execute_result"
    }
   ],
   "source": [
    "cols_to_remove.tail()"
   ]
  },
  {
   "cell_type": "code",
   "execution_count": 14,
   "metadata": {},
   "outputs": [
    {
     "name": "stdout",
     "output_type": "stream",
     "text": [
      "-1\n",
      "45\n",
      "311\n",
      "342\n",
      "700\n",
      "1436\n",
      "1566\n",
      "2007\n",
      "2122\n",
      "3563\n",
      "3821\n",
      "4254\n",
      "4412\n",
      "11827\n",
      "12355\n",
      "13426\n",
      "13503\n",
      "13585\n",
      "13922\n",
      "14161\n",
      "14417\n",
      "14895\n",
      "15883\n",
      "22376\n",
      "22991\n",
      "26920\n",
      "27654\n",
      "34766\n",
      "34842\n",
      "34969\n",
      "35609\n",
      "37580\n",
      "38114\n",
      "39005\n",
      "39169\n",
      "39525\n",
      "40268\n",
      "42094\n",
      "42400\n",
      "44768\n",
      "45348\n",
      "47816\n",
      "47957\n",
      "50570\n",
      "51158\n",
      "54379\n",
      "56607\n",
      "56939\n",
      "57150\n"
     ]
    }
   ],
   "source": [
    "# PARSE THE RANGE DATA MANUALLY\n",
    "# !!! Subtract 1 from each column position for PYTHON ZERO INDEX !!!\n",
    "# Print the first column minus 1 and the second column plus 1, of the given columns to delete\n",
    "# These are the slices (ignoring -1 since the slice starts after the first column)\n",
    "# I know... this isn't a great way, but works...\n",
    "for each in cols_to_remove.Range.iloc[::-1]:\n",
    "    print(int(each.split('-')[0])-1-1)\n",
    "    print(int(each.split('-')[1])+1-1)\n",
    "\n",
    "#manually print the last column position, since the columns to remove, don't go all the way to the end!!!\n",
    "print(alignment_length-1)"
   ]
  },
  {
   "cell_type": "code",
   "execution_count": 15,
   "metadata": {},
   "outputs": [],
   "source": [
    "# MANUALLY ASSEMBLE ALIGNMENT\n",
    "# Concatenate the slices not in the SET (RANGE) of those to remove, and keep those\n",
    "# Lookout for Python zero indexing\n",
    "# ~taking the column AFTER the first in range and taking the column BEFORE the next in the range\n",
    "alignment_out = \\\n",
    "alignment[:,45:311]     +alignment[:,342:700]    +alignment[:,1436:1566]  +alignment[:,2007:2122]+\\\n",
    "alignment[:,3563:3821]  +alignment[:,4254:4412]  +alignment[:,11827:12355]+alignment[:,13426:13503]+\\\n",
    "alignment[:,13585:13922]+alignment[:,14161:14417]+alignment[:,14895:15883]+alignment[:,22376:22991]+\\\n",
    "alignment[:,26920:27654]+alignment[:,34766:34842]+alignment[:,34969:35609]+alignment[:,37580:38114]+\\\n",
    "alignment[:,39005:39169]+alignment[:,39525:40268]+alignment[:,42094:42400]+alignment[:,44768:45348]+\\\n",
    "alignment[:,47816:47957]+alignment[:,50570:51158]+alignment[:,54379:56607]+alignment[:,56939:57150]"
   ]
  },
  {
   "cell_type": "code",
   "execution_count": 16,
   "metadata": {},
   "outputs": [],
   "source": [
    "# WRITE OUT TRIMMED ALIGNMENT ~ these variables could be converted to arg_parse for standalone script\n",
    "with open(\"alignment_out.faa\", \"w\") as handle:\n",
    "    count = SeqIO.write(alignment_out, handle, \"fasta\")"
   ]
  },
  {
   "cell_type": "code",
   "execution_count": 17,
   "metadata": {},
   "outputs": [],
   "source": [
    "### AUTOMATIC ASSEMBLY ###"
   ]
  },
  {
   "cell_type": "code",
   "execution_count": 18,
   "metadata": {},
   "outputs": [],
   "source": [
    "# Generate list of pairs of columns for range to delete\n",
    "# Sort pandas dataframe in reverse\n",
    "# Skip first item if <0\n",
    "pairs=[]\n",
    "for each in cols_to_remove.Range.iloc[::-1]:\n",
    "    pair=[(int(each.split('-')[0])-1-1),(int(each.split('-')[1])+1-1)]\n",
    "    if int(pair[0]) > 0 !=True:\n",
    "        pairs.append(pair[0])\n",
    "    if int(pair[1]) > 0 !=True:\n",
    "        pairs.append(pair[1])     \n",
    "    else:\n",
    "        continue"
   ]
  },
  {
   "cell_type": "code",
   "execution_count": 19,
   "metadata": {},
   "outputs": [
    {
     "name": "stdout",
     "output_type": "stream",
     "text": [
      "47\n",
      "[45, 311, 342, 700, 1436, 1566, 2007, 2122, 3563, 3821, 4254, 4412, 11827, 12355, 13426, 13503, 13585, 13922, 14161, 14417, 14895, 15883, 22376, 22991, 26920, 27654, 34766, 34842, 34969, 35609, 37580, 38114, 39005, 39169, 39525, 40268, 42094, 42400, 44768, 45348, 47816, 47957, 50570, 51158, 54379, 56607, 56939]\n"
     ]
    }
   ],
   "source": [
    "print(len(pairs))\n",
    "print(pairs)"
   ]
  },
  {
   "cell_type": "code",
   "execution_count": 20,
   "metadata": {},
   "outputs": [],
   "source": [
    "# SUPER IMPORTANT TO ADD THE LAST COLUMN POSITION, since the slice to keep should go up to this.\n",
    "#\n",
    "if (len(pairs) == len(cols_to_remove)*2) == False:\n",
    "    pairs.append(alignment_length-1)"
   ]
  },
  {
   "cell_type": "code",
   "execution_count": 21,
   "metadata": {},
   "outputs": [
    {
     "name": "stdout",
     "output_type": "stream",
     "text": [
      "48\n",
      "[45, 311, 342, 700, 1436, 1566, 2007, 2122, 3563, 3821, 4254, 4412, 11827, 12355, 13426, 13503, 13585, 13922, 14161, 14417, 14895, 15883, 22376, 22991, 26920, 27654, 34766, 34842, 34969, 35609, 37580, 38114, 39005, 39169, 39525, 40268, 42094, 42400, 44768, 45348, 47816, 47957, 50570, 51158, 54379, 56607, 56939, 57150]\n"
     ]
    }
   ],
   "source": [
    "print(len(pairs))\n",
    "print(pairs)"
   ]
  },
  {
   "cell_type": "code",
   "execution_count": 22,
   "metadata": {},
   "outputs": [],
   "source": [
    "#Build new EMPTY alignment from original\n",
    "alignment_new = alignment[:,0:0]\n",
    "alignment_new\n",
    "\n",
    "#Define pairwise iterable\n",
    "def pairwise(iterable):\n",
    "    a = iter(iterable)\n",
    "    return zip(a, a)\n",
    "\n",
    "# Iterate over pairs and concatenate slices together, based on pairs\n",
    "for x, y in pairwise(pairs):\n",
    "    alignment_new += alignment[:,x:y] "
   ]
  },
  {
   "cell_type": "code",
   "execution_count": 23,
   "metadata": {},
   "outputs": [
    {
     "name": "stdout",
     "output_type": "stream",
     "text": [
      "SingleLetterAlphabet() alignment with 150 rows and 11031 columns\n",
      "IDATLGGGGHSYQLLKKYPDLKIIGLDHDPFARKSAFSKLKEFK...--- AG-311-I09\n",
      "--------------------------------------------...YEN AG-315-C08\n",
      "--------------------------------------------...--- AG-315-C22\n",
      "--------------------------------------------...YGN AG-315-J23\n",
      "--------------------------------------------...YGN AG-315-K21\n",
      "IDATLGGGGHSYQLLKKYPDLKIIGLDHDPFARKSAFSKLEEFK...--- AG-321-G20\n",
      "IDATIGGGGHSAQILENFPGIKIIGLDQDPIAREAASKKLIKFG...--- AG-341-I22\n",
      "IDATLGGGGHSYHLLRKYSDLNIIGIDQDPFARKSASNKLDEFK...YAS AG-347-I15\n",
      "IDATLGGGGHSYQLLKKYPDLKIIGLDHDPYARKSALSKLEEFK...YAS AG-347-J22\n",
      "IDATLGGGGHSYYLLRKYSDLNIIGLDQDPFARKSASKKLDEFK...YAS AG-347-K18\n",
      "--------------------------------------------...--- AG-347-N23\n",
      "VDATLGYGGHASALLKAFPGLRLIGIDQDPVARSFAKARLSCFG...YGN AG-363-A06\n",
      "IDATLGGGGHCAMLLEAHPNIHAIGLDQDSSARKAAQKRLSRFG...YSD AG-363-A16\n",
      "IDATVGGGGHGETLLKAYPQLRLIGLDQDAFAREAASKKLSNFG...--- AG-363-B04\n",
      "IDATLGGGGHASLALEAYPNLHIIGLDHDPAAISAATDQLNIYG...--- AG-363-B11\n",
      "--------------------------------------------...YGD AG-363-C02\n",
      "IDATIGGGGHCSLILENFPNLRVIGLDQDPTALVNAGQRLAKFG...YGN AG-363-C20\n",
      "--------------------------------------------...YGD AG-363-G23\n",
      "...\n",
      "--------------------------------------------...YSD syn-spong-m9\n"
     ]
    }
   ],
   "source": [
    "print(alignment_new)"
   ]
  },
  {
   "cell_type": "code",
   "execution_count": 24,
   "metadata": {},
   "outputs": [],
   "source": [
    "# WRITE OUT TRIMMED ALIGNMENT ~ these variables could be converted to arg_parse for standalone script\n",
    "with open(alignment_name+'_trimmed', \"w\") as handle:\n",
    "    count = SeqIO.write(alignment_new, handle, \"fasta\")"
   ]
  },
  {
   "cell_type": "code",
   "execution_count": 25,
   "metadata": {},
   "outputs": [
    {
     "name": "stdout",
     "output_type": "stream",
     "text": [
      "Same rows: True\n",
      "Different length: False\n"
     ]
    }
   ],
   "source": [
    "print('Same rows:',len(alignment_new) == len(alignment))\n",
    "print('Different length:',alignment_new.get_alignment_length() == alignment.get_alignment_length())"
   ]
  },
  {
   "cell_type": "code",
   "execution_count": 26,
   "metadata": {},
   "outputs": [],
   "source": [
    "### Compare alignment_out from manual assembly to alignment_new from auto assembly"
   ]
  },
  {
   "cell_type": "code",
   "execution_count": 27,
   "metadata": {},
   "outputs": [
    {
     "data": {
      "text/plain": [
       "True"
      ]
     },
     "execution_count": 27,
     "metadata": {},
     "output_type": "execute_result"
    }
   ],
   "source": [
    "len(alignment_out) == len(alignment_new)"
   ]
  },
  {
   "cell_type": "code",
   "execution_count": 28,
   "metadata": {},
   "outputs": [
    {
     "data": {
      "text/plain": [
       "True"
      ]
     },
     "execution_count": 28,
     "metadata": {},
     "output_type": "execute_result"
    }
   ],
   "source": [
    "alignment_out.get_alignment_length() == alignment_new.get_alignment_length()"
   ]
  },
  {
   "cell_type": "code",
   "execution_count": 29,
   "metadata": {},
   "outputs": [],
   "source": [
    "### FIN ###"
   ]
  },
  {
   "cell_type": "code",
   "execution_count": null,
   "metadata": {},
   "outputs": [],
   "source": []
  }
 ],
 "metadata": {
  "kernelspec": {
   "display_name": "Python 3",
   "language": "python",
   "name": "python3"
  },
  "language_info": {
   "codemirror_mode": {
    "name": "ipython",
    "version": 3
   },
   "file_extension": ".py",
   "mimetype": "text/x-python",
   "name": "python",
   "nbconvert_exporter": "python",
   "pygments_lexer": "ipython3",
   "version": "3.7.9"
  }
 },
 "nbformat": 4,
 "nbformat_minor": 4
}
